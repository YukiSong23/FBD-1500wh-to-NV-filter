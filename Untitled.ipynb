{
 "cells": [
  {
   "cell_type": "code",
   "execution_count": 1,
   "id": "ac31d20a",
   "metadata": {},
   "outputs": [
    {
     "name": "stdout",
     "output_type": "stream",
     "text": [
      "Requirement already satisfied: pandas in d:\\anaconda3\\lib\\site-packages (1.5.3)\n",
      "Requirement already satisfied: pytz>=2020.1 in d:\\anaconda3\\lib\\site-packages (from pandas) (2022.7)\n",
      "Requirement already satisfied: python-dateutil>=2.8.1 in d:\\anaconda3\\lib\\site-packages (from pandas) (2.8.2)\n",
      "Requirement already satisfied: numpy>=1.21.0 in d:\\anaconda3\\lib\\site-packages (from pandas) (1.23.5)\n",
      "Requirement already satisfied: six>=1.5 in d:\\anaconda3\\lib\\site-packages (from python-dateutil>=2.8.1->pandas) (1.16.0)\n",
      "Requirement already satisfied: openpyxl in d:\\anaconda3\\lib\\site-packages (3.0.10)\n",
      "Requirement already satisfied: et_xmlfile in d:\\anaconda3\\lib\\site-packages (from openpyxl) (1.1.0)\n"
     ]
    }
   ],
   "source": [
    "!pip install pandas\n",
    "!pip install openpyxl"
   ]
  },
  {
   "cell_type": "code",
   "execution_count": 2,
   "id": "ad9845e7",
   "metadata": {},
   "outputs": [],
   "source": [
    "import pandas as pd"
   ]
  },
  {
   "cell_type": "code",
   "execution_count": 4,
   "id": "2213a2f6",
   "metadata": {},
   "outputs": [
    {
     "name": "stderr",
     "output_type": "stream",
     "text": [
      "D:\\anaconda3\\lib\\site-packages\\openpyxl\\styles\\stylesheet.py:226: UserWarning: Workbook contains no default style, apply openpyxl's default\n",
      "  warn(\"Workbook contains no default style, apply openpyxl's default\")\n"
     ]
    }
   ],
   "source": [
    "# 读取OutInstruction.xlsx\n",
    "df = pd.read_excel(r'C:\\Users\\fbdop\\Downloads\\OutInstruction.xlsx')\n",
    "\n",
    "def fill_empty_cells(df):\n",
    "    df = df.copy() \n",
    "    for i in range(len(df)):\n",
    "        row = df.iloc[i]\n",
    "        for j in range(len(row)):\n",
    "            if pd.isnull(row[j]):\n",
    "                df.iat[i, j] = df.iat[i-1, j] \n",
    "    return df\n",
    "\n",
    "# 填充空白单元格\n",
    "filled_df = fill_empty_cells(df)\n",
    "\n",
    "# 移除Zip Codes的扩展部分\n",
    "filled_df['Buyer Zip'] = filled_df['Buyer Zip'].str[:5]\n",
    "\n",
    "# 指定Las Vegas Zip Codes\n",
    "target_zips = [\n",
    "    '89002', '89005', '89011', '89012', '89014', '89015', '89030', '89031', '89032', '89044',\n",
    "    '89052', '89074', '89081', '89084', '89085', '89101', '89102', '89103', '89104', '89106',\n",
    "    '89107', '89108', '89109', '89110', '89113', '89115', '89117', '89118', '89119', '89120',\n",
    "    '89121', '89122', '89123', '89124', '89128', '89129', '89130', '89131', '89134', '89135',\n",
    "    '89138', '89139', '89141', '89143', '89144', '89145', '89146', '89147', '89148', '89149',\n",
    "    '89156', '89158', '89166', '89178', '89179', '89183'\n",
    "]\n",
    "\n",
    "# 根据Las Vegas Zip Codes进行筛选\n",
    "filtered_df = filled_df[filled_df['Buyer Zip'].isin(target_zips)]\n",
    "\n",
    "# 导出筛选结果到Excel文件\n",
    "filtered_df.to_excel('filtered_data.xlsx', index=False)"
   ]
  },
  {
   "cell_type": "code",
   "execution_count": null,
   "id": "2317c909",
   "metadata": {},
   "outputs": [],
   "source": []
  }
 ],
 "metadata": {
  "kernelspec": {
   "display_name": "Python 3 (ipykernel)",
   "language": "python",
   "name": "python3"
  },
  "language_info": {
   "codemirror_mode": {
    "name": "ipython",
    "version": 3
   },
   "file_extension": ".py",
   "mimetype": "text/x-python",
   "name": "python",
   "nbconvert_exporter": "python",
   "pygments_lexer": "ipython3",
   "version": "3.10.9"
  }
 },
 "nbformat": 4,
 "nbformat_minor": 5
}
